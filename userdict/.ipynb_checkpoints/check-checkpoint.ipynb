{
 "cells": [
  {
   "cell_type": "code",
   "execution_count": 2,
   "metadata": {},
   "outputs": [
    {
     "name": "stdout",
     "output_type": "stream",
     "text": [
      "202\n",
      "202\n"
     ]
    }
   ],
   "source": [
    "with open('chinese_userdict.txt', 'r', encoding='utf-8') as f:\n",
    "    v = [line.strip('\\n').split()[0] for line in f.readlines()]\n",
    "    print(len(v))\n",
    "    nv = list(set(v))\n",
    "    print(len(nv))"
   ]
  }
 ],
 "metadata": {
  "kernelspec": {
   "display_name": "Python 3",
   "language": "python",
   "name": "python3"
  },
  "language_info": {
   "codemirror_mode": {
    "name": "ipython",
    "version": 3
   },
   "file_extension": ".py",
   "mimetype": "text/x-python",
   "name": "python",
   "nbconvert_exporter": "python",
   "pygments_lexer": "ipython3",
   "version": "3.6.8"
  }
 },
 "nbformat": 4,
 "nbformat_minor": 2
}
